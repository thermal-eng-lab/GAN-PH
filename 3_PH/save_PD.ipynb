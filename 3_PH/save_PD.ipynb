{
 "cells": [
  {
   "cell_type": "markdown",
   "metadata": {},
   "source": [
    "2025.1.9(Tue)  \n",
    "Generate persistent diagram for real/generated structures\n",
    "---"
   ]
  },
  {
   "cell_type": "code",
   "execution_count": 1,
   "metadata": {},
   "outputs": [],
   "source": [
    "import os\n",
    "import numpy as np\n",
    "import matplotlib.pyplot as plt\n",
    "import pyvista as pv\n",
    "import homcloud.pyvistahelper as pvhelper\n",
    "import cv2\n",
    "import homcloud.interface as hc\n",
    "from tqdm.notebook import tqdm\n",
    "import pandas as pd\n",
    "from tqdm.notebook import trange\n",
    "\n",
    "# ---- my functions ---- #\n",
    "import PD_func"
   ]
  },
  {
   "cell_type": "code",
   "execution_count": 2,
   "metadata": {},
   "outputs": [],
   "source": [
    "# ------ hyperparameters ------ #\n",
    "# 1. volume fractions\n",
    "vfs = [\"1_NiYSZ_7030\",\"2_NiYSZ_6040\",\"3_NiYSZ_5050\",\"4_NiYSZ_4060\",\"5_NiYSZ_3070\"]\n",
    "\n",
    "# 2. resolution sizes\n",
    "sizes = [\"revised_030\", \"revised_040\", \"revised_050\"]\n",
    "\n",
    "# 3. structures to be analyzed\n",
    "in_header = r\"D:\\Yamatoko_119_D\\Yamatoko_23-25\\1_GAN\\2_Generate_structure\\64_pixel\"  # GAN-generated structures\n",
    "\n",
    "# 4. output directory\n",
    "out_header = \"PDs/WGAN-generated\"\n",
    "# ---------------------------- #"
   ]
  },
  {
   "cell_type": "code",
   "execution_count": 3,
   "metadata": {},
   "outputs": [
    {
     "name": "stdout",
     "output_type": "stream",
     "text": [
      "structures to be analyzed:  D:\\Yamatoko_119_D\\Yamatoko_23-25\\1_GAN\\2_Generate_structure\\64_pixel\\revised_030\\1_NiYSZ_7030\n",
      "Number of loading structures: 300\n"
     ]
    },
    {
     "data": {
      "application/vnd.jupyter.widget-view+json": {
       "model_id": "8264eb610fc242299c30f92158bca2d9",
       "version_major": 2,
       "version_minor": 0
      },
      "text/plain": [
       "  0%|          | 0/300 [00:00<?, ?it/s]"
      ]
     },
     "metadata": {},
     "output_type": "display_data"
    },
    {
     "name": "stderr",
     "output_type": "stream",
     "text": [
      "100%|██████████| 300/300 [03:09<00:00,  1.59it/s]\n",
      "100%|██████████| 300/300 [03:01<00:00,  1.65it/s]\n",
      "100%|██████████| 300/300 [03:09<00:00,  1.58it/s]"
     ]
    },
    {
     "name": "stdout",
     "output_type": "stream",
     "text": [
      "structures to be analyzed:  D:\\Yamatoko_119_D\\Yamatoko_23-25\\1_GAN\\2_Generate_structure\\64_pixel\\revised_030\\2_NiYSZ_6040\n",
      "Number of loading structures: 300\n"
     ]
    },
    {
     "name": "stderr",
     "output_type": "stream",
     "text": [
      "\n"
     ]
    },
    {
     "data": {
      "application/vnd.jupyter.widget-view+json": {
       "model_id": "a62b9c0d74de496eb1ee4c3260cd43f1",
       "version_major": 2,
       "version_minor": 0
      },
      "text/plain": [
       "  0%|          | 0/300 [00:00<?, ?it/s]"
      ]
     },
     "metadata": {},
     "output_type": "display_data"
    },
    {
     "name": "stderr",
     "output_type": "stream",
     "text": [
      "100%|██████████| 300/300 [02:55<00:00,  1.71it/s]\n",
      "100%|██████████| 300/300 [03:10<00:00,  1.58it/s]\n",
      "100%|██████████| 300/300 [03:15<00:00,  1.54it/s]"
     ]
    },
    {
     "name": "stdout",
     "output_type": "stream",
     "text": [
      "structures to be analyzed:  D:\\Yamatoko_119_D\\Yamatoko_23-25\\1_GAN\\2_Generate_structure\\64_pixel\\revised_030\\3_NiYSZ_5050\n",
      "Number of loading structures: 300\n"
     ]
    },
    {
     "name": "stderr",
     "output_type": "stream",
     "text": [
      "\n"
     ]
    },
    {
     "data": {
      "application/vnd.jupyter.widget-view+json": {
       "model_id": "01e1f9fe160f4ad6a7c0d5bac6ebbb1c",
       "version_major": 2,
       "version_minor": 0
      },
      "text/plain": [
       "  0%|          | 0/300 [00:00<?, ?it/s]"
      ]
     },
     "metadata": {},
     "output_type": "display_data"
    },
    {
     "name": "stderr",
     "output_type": "stream",
     "text": [
      "100%|██████████| 300/300 [02:46<00:00,  1.80it/s]\n",
      "100%|██████████| 300/300 [03:20<00:00,  1.50it/s]\n",
      "100%|██████████| 300/300 [02:57<00:00,  1.69it/s]"
     ]
    },
    {
     "name": "stdout",
     "output_type": "stream",
     "text": [
      "structures to be analyzed:  D:\\Yamatoko_119_D\\Yamatoko_23-25\\1_GAN\\2_Generate_structure\\64_pixel\\revised_030\\4_NiYSZ_4060\n",
      "Number of loading structures: 300\n"
     ]
    },
    {
     "name": "stderr",
     "output_type": "stream",
     "text": [
      "\n"
     ]
    },
    {
     "data": {
      "application/vnd.jupyter.widget-view+json": {
       "model_id": "43cc568e0c1f4d7796e76c6e1a3a5ed9",
       "version_major": 2,
       "version_minor": 0
      },
      "text/plain": [
       "  0%|          | 0/300 [00:00<?, ?it/s]"
      ]
     },
     "metadata": {},
     "output_type": "display_data"
    },
    {
     "name": "stderr",
     "output_type": "stream",
     "text": [
      "100%|██████████| 300/300 [03:06<00:00,  1.61it/s]\n",
      "100%|██████████| 300/300 [03:13<00:00,  1.55it/s]\n",
      "100%|██████████| 300/300 [02:48<00:00,  1.78it/s]"
     ]
    },
    {
     "name": "stdout",
     "output_type": "stream",
     "text": [
      "structures to be analyzed:  D:\\Yamatoko_119_D\\Yamatoko_23-25\\1_GAN\\2_Generate_structure\\64_pixel\\revised_030\\5_NiYSZ_3070\n",
      "Number of loading structures: 300\n"
     ]
    },
    {
     "name": "stderr",
     "output_type": "stream",
     "text": [
      "\n"
     ]
    },
    {
     "data": {
      "application/vnd.jupyter.widget-view+json": {
       "model_id": "5695b2627f634b8ab9be3256f0e9baa3",
       "version_major": 2,
       "version_minor": 0
      },
      "text/plain": [
       "  0%|          | 0/300 [00:00<?, ?it/s]"
      ]
     },
     "metadata": {},
     "output_type": "display_data"
    },
    {
     "name": "stderr",
     "output_type": "stream",
     "text": [
      "100%|██████████| 300/300 [02:46<00:00,  1.80it/s]\n",
      "100%|██████████| 300/300 [02:56<00:00,  1.70it/s]\n",
      "100%|██████████| 300/300 [02:39<00:00,  1.88it/s]"
     ]
    },
    {
     "name": "stdout",
     "output_type": "stream",
     "text": [
      "structures to be analyzed:  D:\\Yamatoko_119_D\\Yamatoko_23-25\\1_GAN\\2_Generate_structure\\64_pixel\\revised_040\\1_NiYSZ_7030\n",
      "Number of loading structures: 300\n"
     ]
    },
    {
     "name": "stderr",
     "output_type": "stream",
     "text": [
      "\n"
     ]
    },
    {
     "data": {
      "application/vnd.jupyter.widget-view+json": {
       "model_id": "64b3049f51974988b07382c10d6345c4",
       "version_major": 2,
       "version_minor": 0
      },
      "text/plain": [
       "  0%|          | 0/300 [00:00<?, ?it/s]"
      ]
     },
     "metadata": {},
     "output_type": "display_data"
    },
    {
     "name": "stderr",
     "output_type": "stream",
     "text": [
      "100%|██████████| 300/300 [02:40<00:00,  1.87it/s]\n",
      "100%|██████████| 300/300 [02:47<00:00,  1.79it/s]\n",
      "100%|██████████| 300/300 [02:58<00:00,  1.68it/s]"
     ]
    },
    {
     "name": "stdout",
     "output_type": "stream",
     "text": [
      "structures to be analyzed:  D:\\Yamatoko_119_D\\Yamatoko_23-25\\1_GAN\\2_Generate_structure\\64_pixel\\revised_040\\2_NiYSZ_6040\n",
      "Number of loading structures: 300\n"
     ]
    },
    {
     "name": "stderr",
     "output_type": "stream",
     "text": [
      "\n"
     ]
    },
    {
     "data": {
      "application/vnd.jupyter.widget-view+json": {
       "model_id": "32fa974007b14bacab546848a61ac90e",
       "version_major": 2,
       "version_minor": 0
      },
      "text/plain": [
       "  0%|          | 0/300 [00:00<?, ?it/s]"
      ]
     },
     "metadata": {},
     "output_type": "display_data"
    },
    {
     "name": "stderr",
     "output_type": "stream",
     "text": [
      "100%|██████████| 300/300 [02:54<00:00,  1.72it/s]\n",
      "100%|██████████| 300/300 [03:01<00:00,  1.65it/s]\n",
      "100%|██████████| 300/300 [02:52<00:00,  1.74it/s]"
     ]
    },
    {
     "name": "stdout",
     "output_type": "stream",
     "text": [
      "structures to be analyzed:  D:\\Yamatoko_119_D\\Yamatoko_23-25\\1_GAN\\2_Generate_structure\\64_pixel\\revised_040\\3_NiYSZ_5050\n",
      "Number of loading structures: 300\n"
     ]
    },
    {
     "name": "stderr",
     "output_type": "stream",
     "text": [
      "\n"
     ]
    },
    {
     "data": {
      "application/vnd.jupyter.widget-view+json": {
       "model_id": "f457c272c02d422c816120da56f22e3f",
       "version_major": 2,
       "version_minor": 0
      },
      "text/plain": [
       "  0%|          | 0/300 [00:00<?, ?it/s]"
      ]
     },
     "metadata": {},
     "output_type": "display_data"
    },
    {
     "name": "stderr",
     "output_type": "stream",
     "text": [
      "100%|██████████| 300/300 [02:47<00:00,  1.79it/s]\n",
      "100%|██████████| 300/300 [03:09<00:00,  1.58it/s]\n",
      "100%|██████████| 300/300 [02:52<00:00,  1.73it/s]"
     ]
    },
    {
     "name": "stdout",
     "output_type": "stream",
     "text": [
      "structures to be analyzed:  D:\\Yamatoko_119_D\\Yamatoko_23-25\\1_GAN\\2_Generate_structure\\64_pixel\\revised_040\\4_NiYSZ_4060\n",
      "Number of loading structures: 300\n"
     ]
    },
    {
     "name": "stderr",
     "output_type": "stream",
     "text": [
      "\n"
     ]
    },
    {
     "data": {
      "application/vnd.jupyter.widget-view+json": {
       "model_id": "7a88f0f59f5e41df84595115c9999b29",
       "version_major": 2,
       "version_minor": 0
      },
      "text/plain": [
       "  0%|          | 0/300 [00:00<?, ?it/s]"
      ]
     },
     "metadata": {},
     "output_type": "display_data"
    },
    {
     "name": "stderr",
     "output_type": "stream",
     "text": [
      "100%|██████████| 300/300 [03:00<00:00,  1.66it/s]\n",
      "100%|██████████| 300/300 [03:07<00:00,  1.60it/s]\n",
      "100%|██████████| 300/300 [02:53<00:00,  1.73it/s]"
     ]
    },
    {
     "name": "stdout",
     "output_type": "stream",
     "text": [
      "structures to be analyzed:  D:\\Yamatoko_119_D\\Yamatoko_23-25\\1_GAN\\2_Generate_structure\\64_pixel\\revised_040\\5_NiYSZ_3070\n",
      "Number of loading structures: 300\n"
     ]
    },
    {
     "name": "stderr",
     "output_type": "stream",
     "text": [
      "\n"
     ]
    },
    {
     "data": {
      "application/vnd.jupyter.widget-view+json": {
       "model_id": "2377633c697e4f1d85f8dbc7ead3a239",
       "version_major": 2,
       "version_minor": 0
      },
      "text/plain": [
       "  0%|          | 0/300 [00:00<?, ?it/s]"
      ]
     },
     "metadata": {},
     "output_type": "display_data"
    },
    {
     "name": "stderr",
     "output_type": "stream",
     "text": [
      "100%|██████████| 300/300 [02:53<00:00,  1.73it/s]\n",
      "100%|██████████| 300/300 [03:00<00:00,  1.66it/s]\n",
      "100%|██████████| 300/300 [02:56<00:00,  1.70it/s]"
     ]
    },
    {
     "name": "stdout",
     "output_type": "stream",
     "text": [
      "structures to be analyzed:  D:\\Yamatoko_119_D\\Yamatoko_23-25\\1_GAN\\2_Generate_structure\\64_pixel\\revised_050\\1_NiYSZ_7030\n",
      "Number of loading structures: 300\n"
     ]
    },
    {
     "name": "stderr",
     "output_type": "stream",
     "text": [
      "\n"
     ]
    },
    {
     "data": {
      "application/vnd.jupyter.widget-view+json": {
       "model_id": "4611ea01e2d843cb8d13f9366784a8a2",
       "version_major": 2,
       "version_minor": 0
      },
      "text/plain": [
       "  0%|          | 0/300 [00:00<?, ?it/s]"
      ]
     },
     "metadata": {},
     "output_type": "display_data"
    },
    {
     "name": "stderr",
     "output_type": "stream",
     "text": [
      "100%|██████████| 300/300 [02:42<00:00,  1.84it/s]\n",
      "100%|██████████| 300/300 [03:04<00:00,  1.63it/s]\n",
      "100%|██████████| 300/300 [03:02<00:00,  1.65it/s]"
     ]
    },
    {
     "name": "stdout",
     "output_type": "stream",
     "text": [
      "structures to be analyzed:  D:\\Yamatoko_119_D\\Yamatoko_23-25\\1_GAN\\2_Generate_structure\\64_pixel\\revised_050\\2_NiYSZ_6040\n",
      "Number of loading structures: 300\n"
     ]
    },
    {
     "name": "stderr",
     "output_type": "stream",
     "text": [
      "\n"
     ]
    },
    {
     "data": {
      "application/vnd.jupyter.widget-view+json": {
       "model_id": "6587a83e1bd442d2a0cd38d960951e90",
       "version_major": 2,
       "version_minor": 0
      },
      "text/plain": [
       "  0%|          | 0/300 [00:00<?, ?it/s]"
      ]
     },
     "metadata": {},
     "output_type": "display_data"
    },
    {
     "name": "stderr",
     "output_type": "stream",
     "text": [
      "100%|██████████| 300/300 [03:03<00:00,  1.63it/s]\n",
      "100%|██████████| 300/300 [03:12<00:00,  1.56it/s]\n",
      "100%|██████████| 300/300 [03:04<00:00,  1.63it/s]"
     ]
    },
    {
     "name": "stdout",
     "output_type": "stream",
     "text": [
      "structures to be analyzed:  D:\\Yamatoko_119_D\\Yamatoko_23-25\\1_GAN\\2_Generate_structure\\64_pixel\\revised_050\\3_NiYSZ_5050\n",
      "Number of loading structures: 300\n"
     ]
    },
    {
     "name": "stderr",
     "output_type": "stream",
     "text": [
      "\n"
     ]
    },
    {
     "data": {
      "application/vnd.jupyter.widget-view+json": {
       "model_id": "0fe74251deab421ab3f74f3fa4058570",
       "version_major": 2,
       "version_minor": 0
      },
      "text/plain": [
       "  0%|          | 0/300 [00:00<?, ?it/s]"
      ]
     },
     "metadata": {},
     "output_type": "display_data"
    },
    {
     "name": "stderr",
     "output_type": "stream",
     "text": [
      "100%|██████████| 300/300 [02:57<00:00,  1.69it/s]\n",
      "100%|██████████| 300/300 [03:09<00:00,  1.58it/s]\n",
      "100%|██████████| 300/300 [02:34<00:00,  1.94it/s]"
     ]
    },
    {
     "name": "stdout",
     "output_type": "stream",
     "text": [
      "structures to be analyzed:  D:\\Yamatoko_119_D\\Yamatoko_23-25\\1_GAN\\2_Generate_structure\\64_pixel\\revised_050\\4_NiYSZ_4060\n",
      "Number of loading structures: 300\n"
     ]
    },
    {
     "name": "stderr",
     "output_type": "stream",
     "text": [
      "\n"
     ]
    },
    {
     "data": {
      "application/vnd.jupyter.widget-view+json": {
       "model_id": "834fed94ebc841b4b29861cfc01eab32",
       "version_major": 2,
       "version_minor": 0
      },
      "text/plain": [
       "  0%|          | 0/300 [00:00<?, ?it/s]"
      ]
     },
     "metadata": {},
     "output_type": "display_data"
    },
    {
     "name": "stderr",
     "output_type": "stream",
     "text": [
      "100%|██████████| 300/300 [02:30<00:00,  1.99it/s]\n",
      "100%|██████████| 300/300 [02:44<00:00,  1.83it/s]\n",
      "100%|██████████| 300/300 [02:32<00:00,  1.96it/s]"
     ]
    },
    {
     "name": "stdout",
     "output_type": "stream",
     "text": [
      "structures to be analyzed:  D:\\Yamatoko_119_D\\Yamatoko_23-25\\1_GAN\\2_Generate_structure\\64_pixel\\revised_050\\5_NiYSZ_3070\n",
      "Number of loading structures: 300\n"
     ]
    },
    {
     "name": "stderr",
     "output_type": "stream",
     "text": [
      "\n"
     ]
    },
    {
     "data": {
      "application/vnd.jupyter.widget-view+json": {
       "model_id": "0309d3411c9c4451aaf67bdfe9bc4f11",
       "version_major": 2,
       "version_minor": 0
      },
      "text/plain": [
       "  0%|          | 0/300 [00:00<?, ?it/s]"
      ]
     },
     "metadata": {},
     "output_type": "display_data"
    },
    {
     "name": "stderr",
     "output_type": "stream",
     "text": [
      "100%|██████████| 300/300 [02:26<00:00,  2.05it/s]\n",
      "100%|██████████| 300/300 [02:38<00:00,  1.89it/s]\n",
      "100%|██████████| 300/300 [02:30<00:00,  1.99it/s]\n"
     ]
    }
   ],
   "source": [
    "for size in sizes:\n",
    "    for vf in vfs:\n",
    "        \n",
    "        _header = os.path.join(in_header, size, vf)\n",
    "        print(\"structures to be analyzed: \", _header)\n",
    "\n",
    "        out_folder = os.path.join(out_header, size, vf)\n",
    "\n",
    "        PD_func.saving_PD(\n",
    "            header=_header,\n",
    "            out_folder=out_folder,\n",
    "            n_struc=300\n",
    "        )"
   ]
  },
  {
   "cell_type": "code",
   "execution_count": null,
   "metadata": {},
   "outputs": [],
   "source": []
  }
 ],
 "metadata": {
  "kernelspec": {
   "display_name": "myenv",
   "language": "python",
   "name": "myenv"
  },
  "language_info": {
   "codemirror_mode": {
    "name": "ipython",
    "version": 3
   },
   "file_extension": ".py",
   "mimetype": "text/x-python",
   "name": "python",
   "nbconvert_exporter": "python",
   "pygments_lexer": "ipython3",
   "version": "3.12.3"
  }
 },
 "nbformat": 4,
 "nbformat_minor": 2
}
